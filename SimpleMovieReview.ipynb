{
  "nbformat": 4,
  "nbformat_minor": 0,
  "metadata": {
    "colab": {
      "name": "SimpleMovieReview.ipynb",
      "provenance": [],
      "collapsed_sections": [],
      "authorship_tag": "ABX9TyOJh8/2tyb6wGgIWLtAMXJp",
      "include_colab_link": true
    },
    "kernelspec": {
      "name": "python3",
      "display_name": "Python 3"
    }
  },
  "cells": [
    {
      "cell_type": "markdown",
      "metadata": {
        "id": "view-in-github",
        "colab_type": "text"
      },
      "source": [
        "<a href=\"https://colab.research.google.com/github/sanjaytejasvee/MyProjects/blob/master/SimpleMovieReview.ipynb\" target=\"_parent\"><img src=\"https://colab.research.google.com/assets/colab-badge.svg\" alt=\"Open In Colab\"/></a>"
      ]
    },
    {
      "cell_type": "code",
      "metadata": {
        "id": "1-gIpgz8NHFS",
        "colab_type": "code",
        "colab": {}
      },
      "source": [
        "#Import nltk and NaiveBayesClassifier\n",
        "from nltk.corpus import names\n",
        "import nltk.classify.util\n",
        "from nltk.classify import NaiveBayesClassifier\n",
        "from nltk.corpus import names\n"
      ],
      "execution_count": 0,
      "outputs": []
    },
    {
      "cell_type": "code",
      "metadata": {
        "id": "Yk6-DYliRQot",
        "colab_type": "code",
        "colab": {}
      },
      "source": [
        "def word_feats(words):\n",
        "    return dict([(word, True) for word in words])\n",
        " \n",
        "positive_vocab = [ 'awesome', 'outstanding', 'fantastic', 'terrific', 'good', 'nice', 'great', ':)' ]\n",
        "negative_vocab = [ 'bad', 'terrible','useless', 'hate', ':(' ]\n",
        "neutral_vocab = [ 'movie','the','sound','was','is','actors','did','know','words','not' ]\n",
        "\n",
        "positive_features = [(word_feats(pos), 'pos') for pos in positive_vocab]\n",
        "negative_features = [(word_feats(neg), 'neg') for neg in negative_vocab]\n",
        "neutral_features = [(word_feats(neu), 'neu') for neu in neutral_vocab]\n",
        "\n",
        "train_set = negative_features + positive_features + neutral_features\n",
        "\n",
        "classifier = NaiveBayesClassifier.train(train_set) \n"
      ],
      "execution_count": 0,
      "outputs": []
    },
    {
      "cell_type": "code",
      "metadata": {
        "id": "BgV2UHmTRW7Y",
        "colab_type": "code",
        "outputId": "49e1a1ea-bfb4-4fbf-e05c-cb966e17c42b",
        "colab": {
          "base_uri": "https://localhost:8080/",
          "height": 289
        }
      },
      "source": [
        "\n",
        "# Predict\n",
        "neg = 0\n",
        "pos = 0\n",
        "#sentence = \"Awesome movie, I liked it\"\n",
        "Ask = input ('Do you want to check movie analyser? Press Y or N: ')\n",
        "\n",
        "while(1): \n",
        "  if Ask== 'N' or Ask == 'n':\n",
        "    print ('Okay, Bye')\n",
        "    break\n",
        "  elif Ask == 'Y' or Ask == 'y':\n",
        "    sentence= input(\"Enter Movie Review: \")\n",
        "    sentence = sentence.lower()\n",
        "    words = sentence.split(' ')\n",
        "    for word in words:\n",
        "      classResult = classifier.classify( word_feats(word))\n",
        "      if classResult == 'neg':\n",
        "          neg = neg + 1\n",
        "      if classResult == 'pos':\n",
        "          pos = pos + 1\n",
        "    print('Positive: ' + str(float(pos)/len(words)))\n",
        "    print('Negative: ' + str(float(neg)/len(words)))\n",
        "  else :\n",
        "      print ('Invalid Input!, Try Again')\n",
        "  Ask = input ('Do you want to check movie analyser more? Press Y or N: ')"
      ],
      "execution_count": 0,
      "outputs": [
        {
          "output_type": "stream",
          "text": [
            "Do you want to check movie analyser? Press Y or N: y\n",
            "Enter Movie Review: this is the good movie but sound quality is not good\n",
            "Positive: 0.2727272727272727\n",
            "Negative: 0.2727272727272727\n",
            "Do you want to check movie analyser more? Press Y or N: this is best movie i have ever seen\n",
            "Invalid Input!, Try Again\n",
            "Do you want to check movie analyser more? Press Y or N: y\n",
            "Enter Movie Review: this  is the best movie i never seen  before\n",
            "Positive: 0.6363636363636364\n",
            "Negative: 0.45454545454545453\n",
            "Do you want to check movie analyser more? Press Y or N: y\n",
            "Enter Movie Review: this is not good movie but seen a once\n",
            "Positive: 1.3333333333333333\n",
            "Negative: 0.6666666666666666\n",
            "Do you want to check movie analyser more? Press Y or N: n\n",
            "Okay, Bye\n"
          ],
          "name": "stdout"
        }
      ]
    },
    {
      "cell_type": "code",
      "metadata": {
        "id": "EBjvd3Ww9h1W",
        "colab_type": "code",
        "outputId": "afbcf6f4-5e35-4844-99cc-7e9e7370702b",
        "colab": {
          "base_uri": "https://localhost:8080/",
          "height": 129
        }
      },
      "source": [
        ""
      ],
      "execution_count": 0,
      "outputs": [
        {
          "output_type": "error",
          "ename": "IndentationError",
          "evalue": "ignored",
          "traceback": [
            "\u001b[0;36m  File \u001b[0;32m\"<ipython-input-9-1205650fde75>\"\u001b[0;36m, line \u001b[0;32m3\u001b[0m\n\u001b[0;31m    self.root=root\u001b[0m\n\u001b[0m                  ^\u001b[0m\n\u001b[0;31mIndentationError\u001b[0m\u001b[0;31m:\u001b[0m unindent does not match any outer indentation level\n"
          ]
        }
      ]
    }
  ]
}